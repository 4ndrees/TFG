{
 "cells": [
  {
   "cell_type": "markdown",
   "metadata": {},
   "source": [
    "# RECONOCIMIENTO FACIAL CON CNN"
   ]
  },
  {
   "cell_type": "markdown",
   "metadata": {},
   "source": [
    "Andrés Viñé Sánchez  \n",
    "Elvira Baltasar Jiménez  \n",
    "Daniel Couto Seller"
   ]
  },
  {
   "cell_type": "markdown",
   "metadata": {},
   "source": [
    "## 1. Importación de librerías y cargar datos del CSV"
   ]
  },
  {
   "cell_type": "code",
   "execution_count": 4,
   "metadata": {},
   "outputs": [],
   "source": [
    "%load_ext tensorboard"
   ]
  },
  {
   "cell_type": "code",
   "execution_count": 12,
   "metadata": {},
   "outputs": [],
   "source": [
    "import datetime\n",
    "import numpy as np\n",
    "import os\n",
    "import tensorflow as tf\n",
    "import matplotlib.pyplot as plt\n",
    "from tqdm import tqdm\n",
    "\n",
    "from tensorflow.keras import Model\n",
    "from tensorflow.keras.models import Sequential\n",
    "from tensorflow.keras.utils import to_categorical\n",
    "from tensorflow.keras.losses import categorical_crossentropy\n",
    "from tensorflow.keras.preprocessing.image import ImageDataGenerator\n",
    "from tensorflow.keras.layers import Dense, Flatten, Conv2D, MaxPooling2D, Dropout"
   ]
  },
  {
   "cell_type": "code",
   "execution_count": 6,
   "metadata": {},
   "outputs": [],
   "source": [
    "import cv2\n",
    "import urllib\n",
    "import requests\n",
    "import PIL.Image\n",
    "import numpy as np\n",
    "from bs4 import BeautifulSoup\n",
    "\n",
    "#ship synset\n",
    "page = requests.get(\"http://www.image-net.org/api/text/imagenet.synset.geturls?wnid=n04194289\")\n",
    "soup = BeautifulSoup(page.content, 'html.parser')\n",
    "#bicycle synset\n",
    "bikes_page = requests.get(\"http://www.image-net.org/api/text/imagenet.synset.geturls?wnid=n02834778\")\n",
    "bikes_soup = BeautifulSoup(bikes_page.content, 'html.parser')\n",
    "\n",
    "str_soup=str(soup)\n",
    "split_urls=str_soup.split('\\r\\n')\n",
    "\n",
    "bikes_str_soup=str(bikes_soup)\n",
    "bikes_split_urls=bikes_str_soup.split('\\r\\n')"
   ]
  },
  {
   "cell_type": "code",
   "execution_count": 7,
   "metadata": {},
   "outputs": [],
   "source": [
    "os.mkdir('./content')\n",
    "os.mkdir('./content/train')\n",
    "os.mkdir('./content/train/ships')\n",
    "os.mkdir('./content/train/bikes')\n",
    "os.mkdir('./content/validation')\n",
    "os.mkdir('./content/validation/ships')\n",
    "os.mkdir('./content/validation/bikes')"
   ]
  },
  {
   "cell_type": "markdown",
   "metadata": {},
   "source": [
    "## 2. Pre-procesado de los datos"
   ]
  },
  {
   "cell_type": "code",
   "execution_count": 11,
   "metadata": {},
   "outputs": [
    {
     "name": "stderr",
     "output_type": "stream",
     "text": [
      "  1%|          | 1/100 [00:00<00:00, 926.10it/s]\n"
     ]
    },
    {
     "ename": "IndexError",
     "evalue": "list index out of range",
     "output_type": "error",
     "traceback": [
      "\u001b[1;31m---------------------------------------------------------------------------\u001b[0m",
      "\u001b[1;31mIndexError\u001b[0m                                Traceback (most recent call last)",
      "Cell \u001b[1;32mIn[11], line 12\u001b[0m\n\u001b[0;32m     10\u001b[0m n_of_training_images\u001b[38;5;241m=\u001b[39m\u001b[38;5;241m100\u001b[39m\n\u001b[0;32m     11\u001b[0m \u001b[38;5;28;01mfor\u001b[39;00m progress \u001b[38;5;129;01min\u001b[39;00m tqdm(\u001b[38;5;28mrange\u001b[39m(n_of_training_images)):\n\u001b[1;32m---> 12\u001b[0m     \u001b[38;5;28;01mif\u001b[39;00m \u001b[38;5;129;01mnot\u001b[39;00m \u001b[43msplit_urls\u001b[49m\u001b[43m[\u001b[49m\u001b[43mprogress\u001b[49m\u001b[43m]\u001b[49m \u001b[38;5;241m==\u001b[39m \u001b[38;5;28;01mNone\u001b[39;00m:\n\u001b[0;32m     13\u001b[0m         \u001b[38;5;28;01mtry\u001b[39;00m:\n\u001b[0;32m     14\u001b[0m             I \u001b[38;5;241m=\u001b[39m url_to_image(split_urls[progress])\n",
      "\u001b[1;31mIndexError\u001b[0m: list index out of range"
     ]
    }
   ],
   "source": [
    "img_rows, img_cols = 32, 32\n",
    "input_shape = (img_rows, img_cols, 3)\n",
    "\n",
    "def url_to_image(url):\n",
    "    resp = urllib.request.urlopen(url)\n",
    "    image = np.asarray(bytearray(resp.read()), dtype=\"uint8\")\n",
    "    image = cv2.imdecode(image, cv2.IMREAD_COLOR)\n",
    "    return image\n",
    "\n",
    "n_of_training_images=100\n",
    "for progress in tqdm(range(n_of_training_images)):\n",
    "    if not split_urls[progress] == None:\n",
    "        try:\n",
    "            I = url_to_image(split_urls[progress])\n",
    "            if (len(I.shape))==3:\n",
    "                save_path = './content/train/ships/img'+str(progress)+'.jpg'\n",
    "                cv2.imwrite(save_path,I)\n",
    "        except:\n",
    "            None\n",
    "\n",
    "for progress in tqdm(range(n_of_training_images)):\n",
    "    if not bikes_split_urls[progress] == None:\n",
    "        try:\n",
    "            I = url_to_image(bikes_split_urls[progress])\n",
    "            if (len(I.shape))==3:\n",
    "                save_path = './content/train/bikes/img'+str(progress)+'.jpg'\n",
    "                cv2.imwrite(save_path,I)\n",
    "        except:\n",
    "            None\n",
    "\n",
    "\n",
    "for progress in tqdm(range(50)):\n",
    "    if not split_urls[progress] == None:\n",
    "        try:\n",
    "            I = url_to_image(split_urls[n_of_training_images+progress])\n",
    "            if (len(I.shape))==3:\n",
    "                save_path = './content/validation/ships/img'+str(progress)+'.jpg'\n",
    "                cv2.imwrite(save_path,I)\n",
    "        except:\n",
    "            None\n",
    "\n",
    "\n",
    "for progress in tqdm(range(50)):\n",
    "    if not bikes_split_urls[progress] == None:\n",
    "        try:\n",
    "            I = url_to_image(bikes_split_urls[n_of_training_images+progress])\n",
    "            if (len(I.shape))==3:\n",
    "                save_path = './content/validation/bikes/img'+str(progress)+'.jpg'\n",
    "                cv2.imwrite(save_path,I)\n",
    "        except:\n",
    "            None"
   ]
  },
  {
   "cell_type": "markdown",
   "metadata": {},
   "source": [
    "## 3. Entrenamiento del modelo"
   ]
  },
  {
   "cell_type": "markdown",
   "metadata": {},
   "source": [
    "## 4. Métricas obtenidas"
   ]
  }
 ],
 "metadata": {
  "kernelspec": {
   "display_name": "Python 3",
   "language": "python",
   "name": "python3"
  },
  "language_info": {
   "codemirror_mode": {
    "name": "ipython",
    "version": 3
   },
   "file_extension": ".py",
   "mimetype": "text/x-python",
   "name": "python",
   "nbconvert_exporter": "python",
   "pygments_lexer": "ipython3",
   "version": "3.12.2"
  }
 },
 "nbformat": 4,
 "nbformat_minor": 2
}
