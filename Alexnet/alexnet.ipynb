{
 "cells": [
  {
   "cell_type": "markdown",
   "metadata": {},
   "source": [
    "IMPORTAMOS LIBRERIAS"
   ]
  },
  {
   "cell_type": "code",
   "execution_count": 28,
   "metadata": {},
   "outputs": [],
   "source": [
    "import torch\n",
    "import torch.nn as nn\n",
    "from torchvision import datasets, transforms, models\n",
    "from torch.utils.data import DataLoader\n",
    "import torch.optim as optim\n"
   ]
  },
  {
   "cell_type": "markdown",
   "metadata": {},
   "source": [
    "CARGAMOS IMAGENES"
   ]
  },
  {
   "cell_type": "code",
   "execution_count": 29,
   "metadata": {},
   "outputs": [],
   "source": [
    "##!pip install kaggle"
   ]
  },
  {
   "cell_type": "code",
   "execution_count": 30,
   "metadata": {},
   "outputs": [],
   "source": [
    "#from kaggle.api.kaggle_api_extended import KaggleApi\n",
    "\n",
    "#api = KaggleApi()\n",
    "#api.authenticate()\n",
    "\n",
    "# Replace \"xhlulu/140k-real-and-fake-faces\" with your dataset name and specify the download path\n",
    "#api.dataset_download_files(\"xhlulu/140k-real-and-fake-faces\", path=\"your_download_path\", unzip=True)\n"
   ]
  },
  {
   "cell_type": "markdown",
   "metadata": {},
   "source": [
    "DIVIDIMOS"
   ]
  },
  {
   "cell_type": "code",
   "execution_count": 31,
   "metadata": {},
   "outputs": [],
   "source": [
    "import os\n",
    "import shutil\n",
    "\n",
    "# Define las rutas donde quieres almacenar las imágenes de entrenamiento y prueba\n",
    "train_path = 'dataset/train'\n",
    "test_path = 'dataset/test'\n",
    "\n",
    "\n",
    "# Asegúrate de que las carpetas 'real' y 'fake' existan dentro de 'train' y 'test'\n",
    "os.makedirs(os.path.join(train_path, 'real2'), exist_ok=True)\n",
    "os.makedirs(os.path.join(train_path, 'fake2'), exist_ok=True)\n",
    "os.makedirs(os.path.join(test_path, 'real'), exist_ok=True)\n",
    "os.makedirs(os.path.join(test_path, 'fake'), exist_ok=True)"
   ]
  },
  {
   "cell_type": "markdown",
   "metadata": {},
   "source": [
    "DEFINIMOS TRANSFORMACIONES"
   ]
  },
  {
   "cell_type": "code",
   "execution_count": 32,
   "metadata": {},
   "outputs": [],
   "source": [
    "transform = transforms.Compose([\n",
    "    transforms.Resize((224, 224)),\n",
    "    transforms.ToTensor(),\n",
    "    transforms.Normalize(mean=[0.485, 0.456, 0.406], std=[0.229, 0.224, 0.225])\n",
    "])\n"
   ]
  },
  {
   "cell_type": "markdown",
   "metadata": {},
   "source": [
    "CARGAMOS DATOS AL SISTEMA"
   ]
  },
  {
   "cell_type": "code",
   "execution_count": 33,
   "metadata": {},
   "outputs": [],
   "source": [
    "train_data = datasets.ImageFolder(root='dataset/train', transform=transform)\n",
    "test_data = datasets.ImageFolder(root='dataset/test', transform=transform)\n",
    "\n",
    "train_loader = DataLoader(train_data, batch_size=32, shuffle=True)\n",
    "test_loader = DataLoader(test_data, batch_size=32, shuffle=False)\n"
   ]
  },
  {
   "cell_type": "markdown",
   "metadata": {},
   "source": [
    "CARGAMOS ALEXNET PREENTRENADO"
   ]
  },
  {
   "cell_type": "code",
   "execution_count": 34,
   "metadata": {},
   "outputs": [],
   "source": [
    "model = models.alexnet(pretrained=True)\n",
    "model.classifier[6] = nn.Linear(4096, 2)  # Cambia la última capa para 2 clases\n",
    "model = model.to('cuda' if torch.cuda.is_available() else 'cpu')\n"
   ]
  },
  {
   "cell_type": "markdown",
   "metadata": {},
   "source": [
    "DEFINIMOS CRITERIO DE PERDIDA Y OPTIMIZADOR"
   ]
  },
  {
   "cell_type": "markdown",
   "metadata": {},
   "source": [
    "- criterio\n",
    "\n",
    "Compara la salida del modelo con la etiqueta real y calcula qué tan lejos está la predicción del valor verdadero.\n",
    "Penaliza errores asignando un valor más alto a los errores grandes y un valor más bajo a los errores menores, generando un \"pérdida\" que el modelo debe minimizar.\n",
    "\n",
    "- optimizador \n",
    "\n",
    "Combina los beneficios de los algoritmos de momento y adaptación de tasa de aprendizaje. Esto permite un entrenamiento más estable y eficiente.\n",
    "Ajusta los parámetros de forma dinámica basándose en el valor de la pérdida, ayudando a encontrar los valores óptimos rápidamente y evitando quedar atascado en mínimos locales."
   ]
  },
  {
   "cell_type": "code",
   "execution_count": 35,
   "metadata": {},
   "outputs": [],
   "source": [
    "criterion = nn.CrossEntropyLoss()\n",
    "optimizer = optim.Adam(model.parameters(), lr=0.001)\n"
   ]
  },
  {
   "cell_type": "markdown",
   "metadata": {},
   "source": [
    "ENTRENAMIENTO DEL MODELO"
   ]
  },
  {
   "cell_type": "markdown",
   "metadata": {},
   "source": [
    "device = 'cuda' if torch.cuda.is_available() else 'cpu'\n",
    "\n",
    "se utiliza para determinar si el entrenamiento del modelo debe realizarse en una GPU (unidad de procesamiento gráfico) o en una CPU (unidad de procesamiento central). Vamos a desglosar esto:"
   ]
  },
  {
   "cell_type": "code",
   "execution_count": 36,
   "metadata": {},
   "outputs": [],
   "source": [
    "def train_model(model, criterion, optimizer, train_loader, test_loader, epochs=5):\n",
    "    best_accuracy = 0.0  \n",
    "    device = 'cuda' if torch.cuda.is_available() else 'cpu'\n",
    "    model.train()\n",
    "\n",
    "    for epoch in range(epochs):\n",
    "        model.train()\n",
    "        running_loss = 0.0\n",
    "        for inputs, labels in train_loader:\n",
    "            optimizer.zero_grad()\n",
    "            outputs = model(inputs)\n",
    "            loss = criterion(outputs, labels)\n",
    "            loss.backward()\n",
    "            optimizer.step()\n",
    "\n",
    "            running_loss += loss.item()\n",
    "\n",
    "        # Evaluación en cada epoch\n",
    "        print(f'Epoch {epoch+1}/{epochs}, Loss: {running_loss/len(train_loader)}')\n",
    "        test_accuracy = evaluate_model(model, test_loader)\n",
    "        print(f'Test Accuracy: {test_accuracy:.2f}%')\n",
    "\n",
    "        if test_accuracy > best_accuracy:\n",
    "            best_accuracy = test_accuracy\n",
    "            best_model_wts = model.state_dict()\n",
    "        \n",
    "def evaluate_model(model, test_loader):\n",
    "    device = 'cuda' if torch.cuda.is_available() else 'cpu'\n",
    "    model.eval()  # Cambia a modo evaluación\n",
    "    correct = 0\n",
    "    total = 0\n",
    "\n",
    "    with torch.no_grad():\n",
    "        for inputs, labels in test_loader:\n",
    "            outputs = model(inputs)\n",
    "            _, predicted = torch.max(outputs, 1)\n",
    "            total += labels.size(0)\n",
    "            correct += (predicted == labels).sum().item()\n",
    "\n",
    "    model.train()  # Cambia de nuevo a modo entrenamiento\n",
    "    return 100 * correct / total\n"
   ]
  },
  {
   "cell_type": "markdown",
   "metadata": {},
   "source": [
    "ENTRENAR Y EVALUAR"
   ]
  },
  {
   "cell_type": "code",
   "execution_count": 37,
   "metadata": {},
   "outputs": [
    {
     "name": "stdout",
     "output_type": "stream",
     "text": [
      "Epoch 1/1, Loss: 0.7134746017928322\n",
      "Test Accuracy: 50.00%\n"
     ]
    }
   ],
   "source": [
    "train_model(model, criterion, optimizer, train_loader, test_loader, epochs=1)"
   ]
  },
  {
   "cell_type": "code",
   "execution_count": null,
   "metadata": {},
   "outputs": [],
   "source": [
    "train_model(model, criterion, optimizer, train_loader, test_loader, epochs=5)"
   ]
  },
  {
   "cell_type": "markdown",
   "metadata": {},
   "source": [
    "REALIZAR PREDICCIONES"
   ]
  },
  {
   "cell_type": "code",
   "execution_count": null,
   "metadata": {},
   "outputs": [],
   "source": [
    "from PIL import Image\n",
    "\n",
    "def predict_image(image_path, model):\n",
    "    image = Image.open(image_path)\n",
    "    image = transform(image).unsqueeze(0)  # Añadir batch dimension\n",
    "    image = image.to('cuda' if torch.cuda.is_available() else 'cpu')\n",
    "    \n",
    "    model.eval()\n",
    "    with torch.no_grad():\n",
    "        output = model(image)\n",
    "        _, predicted = torch.max(output, 1)\n",
    "    return 'IA' if predicted.item() == 0 else 'Real'\n"
   ]
  }
 ],
 "metadata": {
  "kernelspec": {
   "display_name": "Python 3",
   "language": "python",
   "name": "python3"
  },
  "language_info": {
   "codemirror_mode": {
    "name": "ipython",
    "version": 3
   },
   "file_extension": ".py",
   "mimetype": "text/x-python",
   "name": "python",
   "nbconvert_exporter": "python",
   "pygments_lexer": "ipython3",
   "version": "3.10.11"
  }
 },
 "nbformat": 4,
 "nbformat_minor": 2
}
